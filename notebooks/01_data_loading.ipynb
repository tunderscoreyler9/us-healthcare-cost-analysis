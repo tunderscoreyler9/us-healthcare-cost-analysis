{
 "cells": [
  {
   "cell_type": "code",
   "execution_count": null,
   "metadata": {},
   "outputs": [],
   "source": [
    "# Import necessary libraries and the data loader\n",
    "import pandas as pd\n",
    "import matplotlib.pyplot as plt\n",
    "import seaborn as sns\n",
    "import sys\n",
    "sys.path.append('../src/data')\n",
    "from data_loader import load_and_prepare_data, regions  # type: ignore # Import our code-cleaning function\n",
    "\n",
    "# Define the file path\n",
    "# For reference, let's start with 2020's data \n",
    "file_path = '../data/raw/kff_healthcare_spending_per_capita_2020.csv'\n",
    "\n",
    "# Call the data loader function to load and prepare the data \n",
    "df, state_data, us_average, raw_df = load_and_prepare_data(file_path)\n",
    "\n",
    "# Validate the raw dataset \n",
    "print(\"Raw Dataset Overview:\")\n",
    "print(\"----------------------\")\n",
    "print(f\"Number of rows: {len(raw_df)}\")\n",
    "print(f\"Number of columns: {len(raw_df.columns)}\")\n",
    "print(\"\\nColumns in dataset:\")\n",
    "print(raw_df.columns.tolist())\n",
    "print(\"\\nFirst few rows of the dataset:\")\n",
    "display(raw_df.head())\n",
    "\n",
    "# Validate the cleaned dataset\n",
    "print(\"\\nCleaned Dataset Overview (State Data):\")\n",
    "print(\"---------------------------------------\")\n",
    "print(f\"Number of rows: {len(state_data)}\")\n",
    "print(f\"Number of columns: {len(state_data.columns)}\")\n",
    "print(\"\\nColumns in cleaned dataset:\")\n",
    "print(state_data.columns.tolist())\n",
    "print(\"\\nFirst few rows of cleaned data:\")\n",
    "display(state_data.head())"
   ]
  },
  {
   "cell_type": "code",
   "execution_count": null,
   "metadata": {},
   "outputs": [],
   "source": [
    "# Some quick statistics to prove the data is clean and ready for analysis\n",
    "# Validate the U.S. average\n",
    "print(\"\\nNational Average Healthcare Spending Per Capita:\")\n",
    "print(f\"${us_average:,.2f}\")\n",
    "\n",
    "# Check for missing values\n",
    "print(\"\\nMissing Values in Cleaned Data:\")\n",
    "print(state_data.isnull().sum())\n",
    "\n",
    "# Basic statistical summary\n",
    "print(\"\\nBasic Statistical Summary (State Data):\")\n",
    "print(state_data.describe())\n",
    "\n",
    "# Validate regional mapping\n",
    "print(\"\\nRegional Mapping Validation:\")\n",
    "print(state_data['Region'].value_counts())"
   ]
  }
 ],
 "metadata": {
  "kernelspec": {
   "display_name": "venv",
   "language": "python",
   "name": "python3"
  },
  "language_info": {
   "codemirror_mode": {
    "name": "ipython",
    "version": 3
   },
   "file_extension": ".py",
   "mimetype": "text/x-python",
   "name": "python",
   "nbconvert_exporter": "python",
   "pygments_lexer": "ipython3",
   "version": "3.10.12"
  }
 },
 "nbformat": 4,
 "nbformat_minor": 2
}
